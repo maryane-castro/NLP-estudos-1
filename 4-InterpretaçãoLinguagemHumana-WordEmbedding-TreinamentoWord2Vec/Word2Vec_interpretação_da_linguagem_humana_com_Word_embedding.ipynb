{
  "nbformat": 4,
  "nbformat_minor": 0,
  "metadata": {
    "colab": {
      "provenance": []
    },
    "kernelspec": {
      "name": "python3",
      "display_name": "Python 3"
    },
    "language_info": {
      "name": "python"
    }
  },
  "cells": [
    {
      "cell_type": "markdown",
      "source": [
        "# one-hot encode and word2vec\n",
        "\n",
        "\n",
        "baixe os 2 arquivo de aproximadamente 3gb (CBOW AND SKIPGRAM de 30 dimensoes)\n",
        "http://nilc.icmc.usp.br/nilc/index.php/repositorio-de-word-embeddings-do-nilc\n",
        "\n",
        "- Word Embeddings do NILC\n",
        "\n",
        "e coloque seu caminho onde tive:\n",
        "- [/content/drive/MyDrive/codealura/4-Word2Vec: interpretação da linguagem humana com Word embedding/cbow_s300.txt]\n",
        "\n",
        "- [/content/drive/MyDrive/codealura/4-Word2Vec: interpretação da linguagem humana com Word embedding/skip_s300.txt]\n"
      ],
      "metadata": {
        "id": "DS_BdRYMnYZ7"
      }
    },
    {
      "cell_type": "code",
      "source": [
        "from google.colab import drive\n",
        "drive.mount('/content/drive')"
      ],
      "metadata": {
        "colab": {
          "base_uri": "https://localhost:8080/"
        },
        "id": "OgsYiSEqmRge",
        "outputId": "85d878a5-8663-4767-b084-4de0b8060375"
      },
      "execution_count": 1,
      "outputs": [
        {
          "output_type": "stream",
          "name": "stdout",
          "text": [
            "Mounted at /content/drive\n"
          ]
        }
      ]
    },
    {
      "cell_type": "code",
      "execution_count": 2,
      "metadata": {
        "colab": {
          "base_uri": "https://localhost:8080/",
          "height": 519
        },
        "id": "MUtoY2j2lxuY",
        "outputId": "8aa99e9c-b77f-4282-dd97-a6dd46282589"
      },
      "outputs": [
        {
          "output_type": "execute_result",
          "data": {
            "text/plain": [
              "                                                   title  \\\n",
              "68403                                A língua impalpável   \n",
              "22961  Após frente fria, SP deve ter domingo com temp...   \n",
              "57930  Investigação sobre Rolls-Royce mostra passivid...   \n",
              "64185  Bolsa fecha em alta de 2% guiada por ações de ...   \n",
              "64311  Jovem reage a sequestro-relâmpago e mata assal...   \n",
              "\n",
              "                                                    text        date  \\\n",
              "68403  Cheguei no vale de U-ah-hu numa manhã de domin...  2015-06-15   \n",
              "22961  A frente fria que deixou o tempo instável na r...  2015-07-25   \n",
              "57930  Frutas, flores e velas: 200 mil libras. Por an...  2017-05-05   \n",
              "64185  A forte valorização das ações de bancos e da m...  2015-10-06   \n",
              "64311  Vítima de um sequestro-relâmpago junto com a n...  2016-03-18   \n",
              "\n",
              "        category       subcategory  \\\n",
              "68403    colunas  gregorioduvivier   \n",
              "22961  cotidiano               NaN   \n",
              "57930    mercado               NaN   \n",
              "64185    mercado               NaN   \n",
              "64311  cotidiano               NaN   \n",
              "\n",
              "                                                    link  \n",
              "68403  http://www1.folha.uol.com.br/colunas/gregoriod...  \n",
              "22961  http://www1.folha.uol.com.br/cotidiano/2015/07...  \n",
              "57930  http://www1.folha.uol.com.br/mercado/2017/05/1...  \n",
              "64185  http://www1.folha.uol.com.br/mercado/2015/06/1...  \n",
              "64311  http://www1.folha.uol.com.br/cotidiano/2016/03...  "
            ],
            "text/html": [
              "\n",
              "  <div id=\"df-6c66c14e-fb50-40f7-952b-c95500bb2376\" class=\"colab-df-container\">\n",
              "    <div>\n",
              "<style scoped>\n",
              "    .dataframe tbody tr th:only-of-type {\n",
              "        vertical-align: middle;\n",
              "    }\n",
              "\n",
              "    .dataframe tbody tr th {\n",
              "        vertical-align: top;\n",
              "    }\n",
              "\n",
              "    .dataframe thead th {\n",
              "        text-align: right;\n",
              "    }\n",
              "</style>\n",
              "<table border=\"1\" class=\"dataframe\">\n",
              "  <thead>\n",
              "    <tr style=\"text-align: right;\">\n",
              "      <th></th>\n",
              "      <th>title</th>\n",
              "      <th>text</th>\n",
              "      <th>date</th>\n",
              "      <th>category</th>\n",
              "      <th>subcategory</th>\n",
              "      <th>link</th>\n",
              "    </tr>\n",
              "  </thead>\n",
              "  <tbody>\n",
              "    <tr>\n",
              "      <th>68403</th>\n",
              "      <td>A língua impalpável</td>\n",
              "      <td>Cheguei no vale de U-ah-hu numa manhã de domin...</td>\n",
              "      <td>2015-06-15</td>\n",
              "      <td>colunas</td>\n",
              "      <td>gregorioduvivier</td>\n",
              "      <td>http://www1.folha.uol.com.br/colunas/gregoriod...</td>\n",
              "    </tr>\n",
              "    <tr>\n",
              "      <th>22961</th>\n",
              "      <td>Após frente fria, SP deve ter domingo com temp...</td>\n",
              "      <td>A frente fria que deixou o tempo instável na r...</td>\n",
              "      <td>2015-07-25</td>\n",
              "      <td>cotidiano</td>\n",
              "      <td>NaN</td>\n",
              "      <td>http://www1.folha.uol.com.br/cotidiano/2015/07...</td>\n",
              "    </tr>\n",
              "    <tr>\n",
              "      <th>57930</th>\n",
              "      <td>Investigação sobre Rolls-Royce mostra passivid...</td>\n",
              "      <td>Frutas, flores e velas: 200 mil libras. Por an...</td>\n",
              "      <td>2017-05-05</td>\n",
              "      <td>mercado</td>\n",
              "      <td>NaN</td>\n",
              "      <td>http://www1.folha.uol.com.br/mercado/2017/05/1...</td>\n",
              "    </tr>\n",
              "    <tr>\n",
              "      <th>64185</th>\n",
              "      <td>Bolsa fecha em alta de 2% guiada por ações de ...</td>\n",
              "      <td>A forte valorização das ações de bancos e da m...</td>\n",
              "      <td>2015-10-06</td>\n",
              "      <td>mercado</td>\n",
              "      <td>NaN</td>\n",
              "      <td>http://www1.folha.uol.com.br/mercado/2015/06/1...</td>\n",
              "    </tr>\n",
              "    <tr>\n",
              "      <th>64311</th>\n",
              "      <td>Jovem reage a sequestro-relâmpago e mata assal...</td>\n",
              "      <td>Vítima de um sequestro-relâmpago junto com a n...</td>\n",
              "      <td>2016-03-18</td>\n",
              "      <td>cotidiano</td>\n",
              "      <td>NaN</td>\n",
              "      <td>http://www1.folha.uol.com.br/cotidiano/2016/03...</td>\n",
              "    </tr>\n",
              "  </tbody>\n",
              "</table>\n",
              "</div>\n",
              "    <div class=\"colab-df-buttons\">\n",
              "\n",
              "  <div class=\"colab-df-container\">\n",
              "    <button class=\"colab-df-convert\" onclick=\"convertToInteractive('df-6c66c14e-fb50-40f7-952b-c95500bb2376')\"\n",
              "            title=\"Convert this dataframe to an interactive table.\"\n",
              "            style=\"display:none;\">\n",
              "\n",
              "  <svg xmlns=\"http://www.w3.org/2000/svg\" height=\"24px\" viewBox=\"0 -960 960 960\">\n",
              "    <path d=\"M120-120v-720h720v720H120Zm60-500h600v-160H180v160Zm220 220h160v-160H400v160Zm0 220h160v-160H400v160ZM180-400h160v-160H180v160Zm440 0h160v-160H620v160ZM180-180h160v-160H180v160Zm440 0h160v-160H620v160Z\"/>\n",
              "  </svg>\n",
              "    </button>\n",
              "\n",
              "  <style>\n",
              "    .colab-df-container {\n",
              "      display:flex;\n",
              "      gap: 12px;\n",
              "    }\n",
              "\n",
              "    .colab-df-convert {\n",
              "      background-color: #E8F0FE;\n",
              "      border: none;\n",
              "      border-radius: 50%;\n",
              "      cursor: pointer;\n",
              "      display: none;\n",
              "      fill: #1967D2;\n",
              "      height: 32px;\n",
              "      padding: 0 0 0 0;\n",
              "      width: 32px;\n",
              "    }\n",
              "\n",
              "    .colab-df-convert:hover {\n",
              "      background-color: #E2EBFA;\n",
              "      box-shadow: 0px 1px 2px rgba(60, 64, 67, 0.3), 0px 1px 3px 1px rgba(60, 64, 67, 0.15);\n",
              "      fill: #174EA6;\n",
              "    }\n",
              "\n",
              "    .colab-df-buttons div {\n",
              "      margin-bottom: 4px;\n",
              "    }\n",
              "\n",
              "    [theme=dark] .colab-df-convert {\n",
              "      background-color: #3B4455;\n",
              "      fill: #D2E3FC;\n",
              "    }\n",
              "\n",
              "    [theme=dark] .colab-df-convert:hover {\n",
              "      background-color: #434B5C;\n",
              "      box-shadow: 0px 1px 3px 1px rgba(0, 0, 0, 0.15);\n",
              "      filter: drop-shadow(0px 1px 2px rgba(0, 0, 0, 0.3));\n",
              "      fill: #FFFFFF;\n",
              "    }\n",
              "  </style>\n",
              "\n",
              "    <script>\n",
              "      const buttonEl =\n",
              "        document.querySelector('#df-6c66c14e-fb50-40f7-952b-c95500bb2376 button.colab-df-convert');\n",
              "      buttonEl.style.display =\n",
              "        google.colab.kernel.accessAllowed ? 'block' : 'none';\n",
              "\n",
              "      async function convertToInteractive(key) {\n",
              "        const element = document.querySelector('#df-6c66c14e-fb50-40f7-952b-c95500bb2376');\n",
              "        const dataTable =\n",
              "          await google.colab.kernel.invokeFunction('convertToInteractive',\n",
              "                                                    [key], {});\n",
              "        if (!dataTable) return;\n",
              "\n",
              "        const docLinkHtml = 'Like what you see? Visit the ' +\n",
              "          '<a target=\"_blank\" href=https://colab.research.google.com/notebooks/data_table.ipynb>data table notebook</a>'\n",
              "          + ' to learn more about interactive tables.';\n",
              "        element.innerHTML = '';\n",
              "        dataTable['output_type'] = 'display_data';\n",
              "        await google.colab.output.renderOutput(dataTable, element);\n",
              "        const docLink = document.createElement('div');\n",
              "        docLink.innerHTML = docLinkHtml;\n",
              "        element.appendChild(docLink);\n",
              "      }\n",
              "    </script>\n",
              "  </div>\n",
              "\n",
              "\n",
              "<div id=\"df-b3ecfbf1-c922-4d36-a589-9b209eb4a983\">\n",
              "  <button class=\"colab-df-quickchart\" onclick=\"quickchart('df-b3ecfbf1-c922-4d36-a589-9b209eb4a983')\"\n",
              "            title=\"Suggest charts\"\n",
              "            style=\"display:none;\">\n",
              "\n",
              "<svg xmlns=\"http://www.w3.org/2000/svg\" height=\"24px\"viewBox=\"0 0 24 24\"\n",
              "     width=\"24px\">\n",
              "    <g>\n",
              "        <path d=\"M19 3H5c-1.1 0-2 .9-2 2v14c0 1.1.9 2 2 2h14c1.1 0 2-.9 2-2V5c0-1.1-.9-2-2-2zM9 17H7v-7h2v7zm4 0h-2V7h2v10zm4 0h-2v-4h2v4z\"/>\n",
              "    </g>\n",
              "</svg>\n",
              "  </button>\n",
              "\n",
              "<style>\n",
              "  .colab-df-quickchart {\n",
              "      --bg-color: #E8F0FE;\n",
              "      --fill-color: #1967D2;\n",
              "      --hover-bg-color: #E2EBFA;\n",
              "      --hover-fill-color: #174EA6;\n",
              "      --disabled-fill-color: #AAA;\n",
              "      --disabled-bg-color: #DDD;\n",
              "  }\n",
              "\n",
              "  [theme=dark] .colab-df-quickchart {\n",
              "      --bg-color: #3B4455;\n",
              "      --fill-color: #D2E3FC;\n",
              "      --hover-bg-color: #434B5C;\n",
              "      --hover-fill-color: #FFFFFF;\n",
              "      --disabled-bg-color: #3B4455;\n",
              "      --disabled-fill-color: #666;\n",
              "  }\n",
              "\n",
              "  .colab-df-quickchart {\n",
              "    background-color: var(--bg-color);\n",
              "    border: none;\n",
              "    border-radius: 50%;\n",
              "    cursor: pointer;\n",
              "    display: none;\n",
              "    fill: var(--fill-color);\n",
              "    height: 32px;\n",
              "    padding: 0;\n",
              "    width: 32px;\n",
              "  }\n",
              "\n",
              "  .colab-df-quickchart:hover {\n",
              "    background-color: var(--hover-bg-color);\n",
              "    box-shadow: 0 1px 2px rgba(60, 64, 67, 0.3), 0 1px 3px 1px rgba(60, 64, 67, 0.15);\n",
              "    fill: var(--button-hover-fill-color);\n",
              "  }\n",
              "\n",
              "  .colab-df-quickchart-complete:disabled,\n",
              "  .colab-df-quickchart-complete:disabled:hover {\n",
              "    background-color: var(--disabled-bg-color);\n",
              "    fill: var(--disabled-fill-color);\n",
              "    box-shadow: none;\n",
              "  }\n",
              "\n",
              "  .colab-df-spinner {\n",
              "    border: 2px solid var(--fill-color);\n",
              "    border-color: transparent;\n",
              "    border-bottom-color: var(--fill-color);\n",
              "    animation:\n",
              "      spin 1s steps(1) infinite;\n",
              "  }\n",
              "\n",
              "  @keyframes spin {\n",
              "    0% {\n",
              "      border-color: transparent;\n",
              "      border-bottom-color: var(--fill-color);\n",
              "      border-left-color: var(--fill-color);\n",
              "    }\n",
              "    20% {\n",
              "      border-color: transparent;\n",
              "      border-left-color: var(--fill-color);\n",
              "      border-top-color: var(--fill-color);\n",
              "    }\n",
              "    30% {\n",
              "      border-color: transparent;\n",
              "      border-left-color: var(--fill-color);\n",
              "      border-top-color: var(--fill-color);\n",
              "      border-right-color: var(--fill-color);\n",
              "    }\n",
              "    40% {\n",
              "      border-color: transparent;\n",
              "      border-right-color: var(--fill-color);\n",
              "      border-top-color: var(--fill-color);\n",
              "    }\n",
              "    60% {\n",
              "      border-color: transparent;\n",
              "      border-right-color: var(--fill-color);\n",
              "    }\n",
              "    80% {\n",
              "      border-color: transparent;\n",
              "      border-right-color: var(--fill-color);\n",
              "      border-bottom-color: var(--fill-color);\n",
              "    }\n",
              "    90% {\n",
              "      border-color: transparent;\n",
              "      border-bottom-color: var(--fill-color);\n",
              "    }\n",
              "  }\n",
              "</style>\n",
              "\n",
              "  <script>\n",
              "    async function quickchart(key) {\n",
              "      const quickchartButtonEl =\n",
              "        document.querySelector('#' + key + ' button');\n",
              "      quickchartButtonEl.disabled = true;  // To prevent multiple clicks.\n",
              "      quickchartButtonEl.classList.add('colab-df-spinner');\n",
              "      try {\n",
              "        const charts = await google.colab.kernel.invokeFunction(\n",
              "            'suggestCharts', [key], {});\n",
              "      } catch (error) {\n",
              "        console.error('Error during call to suggestCharts:', error);\n",
              "      }\n",
              "      quickchartButtonEl.classList.remove('colab-df-spinner');\n",
              "      quickchartButtonEl.classList.add('colab-df-quickchart-complete');\n",
              "    }\n",
              "    (() => {\n",
              "      let quickchartButtonEl =\n",
              "        document.querySelector('#df-b3ecfbf1-c922-4d36-a589-9b209eb4a983 button');\n",
              "      quickchartButtonEl.style.display =\n",
              "        google.colab.kernel.accessAllowed ? 'block' : 'none';\n",
              "    })();\n",
              "  </script>\n",
              "</div>\n",
              "\n",
              "    </div>\n",
              "  </div>\n"
            ],
            "application/vnd.google.colaboratory.intrinsic+json": {
              "type": "dataframe",
              "repr_error": "0"
            }
          },
          "metadata": {},
          "execution_count": 2
        }
      ],
      "source": [
        "import pandas as pd\n",
        "artigo_treino = pd.read_csv(\"/content/drive/MyDrive/codealura/4-Word2Vec parte 1 and 2: interpretação da linguagem humana com Word embedding e treinamento de Word2Vec/treino.csv\")\n",
        "artigo_teste = pd.read_csv(\"/content/drive/MyDrive/codealura/4-Word2Vec parte 1 and 2: interpretação da linguagem humana com Word embedding e treinamento de Word2Vec/teste.csv\")\n",
        "artigo_treino.sample(5)"
      ]
    },
    {
      "cell_type": "code",
      "source": [
        "artigo_teste.sample(5)\n",
        "artigo_teste.iloc[643].title"
      ],
      "metadata": {
        "colab": {
          "base_uri": "https://localhost:8080/",
          "height": 35
        },
        "id": "pfaV0iW-mTAP",
        "outputId": "c3c86dc5-eb1c-4e28-9017-f9950f6bc3b7"
      },
      "execution_count": 3,
      "outputs": [
        {
          "output_type": "execute_result",
          "data": {
            "text/plain": [
              "'Somos todos imprevisíveis'"
            ],
            "application/vnd.google.colaboratory.intrinsic+json": {
              "type": "string"
            }
          },
          "metadata": {},
          "execution_count": 3
        }
      ]
    },
    {
      "cell_type": "code",
      "source": [
        "from sklearn.feature_extraction.text import CountVectorizer\n",
        "\n",
        "texto =[\n",
        "        \"tenha um bom dia\",\n",
        "        \"tenha um péssimo dia\",\n",
        "        \"tenha um ótimo dia\",\n",
        "        \"tenha um dia ruim python java alura caelum papa\"\n",
        "\n",
        "]\n",
        "\n",
        "vetorizador = CountVectorizer()\n",
        "vetorizador.fit(texto)"
      ],
      "metadata": {
        "colab": {
          "base_uri": "https://localhost:8080/",
          "height": 75
        },
        "id": "eLcgRwiImVfZ",
        "outputId": "5aa63963-6636-4f62-91ad-761905e778b2"
      },
      "execution_count": 4,
      "outputs": [
        {
          "output_type": "execute_result",
          "data": {
            "text/plain": [
              "CountVectorizer()"
            ],
            "text/html": [
              "<style>#sk-container-id-1 {color: black;background-color: white;}#sk-container-id-1 pre{padding: 0;}#sk-container-id-1 div.sk-toggleable {background-color: white;}#sk-container-id-1 label.sk-toggleable__label {cursor: pointer;display: block;width: 100%;margin-bottom: 0;padding: 0.3em;box-sizing: border-box;text-align: center;}#sk-container-id-1 label.sk-toggleable__label-arrow:before {content: \"▸\";float: left;margin-right: 0.25em;color: #696969;}#sk-container-id-1 label.sk-toggleable__label-arrow:hover:before {color: black;}#sk-container-id-1 div.sk-estimator:hover label.sk-toggleable__label-arrow:before {color: black;}#sk-container-id-1 div.sk-toggleable__content {max-height: 0;max-width: 0;overflow: hidden;text-align: left;background-color: #f0f8ff;}#sk-container-id-1 div.sk-toggleable__content pre {margin: 0.2em;color: black;border-radius: 0.25em;background-color: #f0f8ff;}#sk-container-id-1 input.sk-toggleable__control:checked~div.sk-toggleable__content {max-height: 200px;max-width: 100%;overflow: auto;}#sk-container-id-1 input.sk-toggleable__control:checked~label.sk-toggleable__label-arrow:before {content: \"▾\";}#sk-container-id-1 div.sk-estimator input.sk-toggleable__control:checked~label.sk-toggleable__label {background-color: #d4ebff;}#sk-container-id-1 div.sk-label input.sk-toggleable__control:checked~label.sk-toggleable__label {background-color: #d4ebff;}#sk-container-id-1 input.sk-hidden--visually {border: 0;clip: rect(1px 1px 1px 1px);clip: rect(1px, 1px, 1px, 1px);height: 1px;margin: -1px;overflow: hidden;padding: 0;position: absolute;width: 1px;}#sk-container-id-1 div.sk-estimator {font-family: monospace;background-color: #f0f8ff;border: 1px dotted black;border-radius: 0.25em;box-sizing: border-box;margin-bottom: 0.5em;}#sk-container-id-1 div.sk-estimator:hover {background-color: #d4ebff;}#sk-container-id-1 div.sk-parallel-item::after {content: \"\";width: 100%;border-bottom: 1px solid gray;flex-grow: 1;}#sk-container-id-1 div.sk-label:hover label.sk-toggleable__label {background-color: #d4ebff;}#sk-container-id-1 div.sk-serial::before {content: \"\";position: absolute;border-left: 1px solid gray;box-sizing: border-box;top: 0;bottom: 0;left: 50%;z-index: 0;}#sk-container-id-1 div.sk-serial {display: flex;flex-direction: column;align-items: center;background-color: white;padding-right: 0.2em;padding-left: 0.2em;position: relative;}#sk-container-id-1 div.sk-item {position: relative;z-index: 1;}#sk-container-id-1 div.sk-parallel {display: flex;align-items: stretch;justify-content: center;background-color: white;position: relative;}#sk-container-id-1 div.sk-item::before, #sk-container-id-1 div.sk-parallel-item::before {content: \"\";position: absolute;border-left: 1px solid gray;box-sizing: border-box;top: 0;bottom: 0;left: 50%;z-index: -1;}#sk-container-id-1 div.sk-parallel-item {display: flex;flex-direction: column;z-index: 1;position: relative;background-color: white;}#sk-container-id-1 div.sk-parallel-item:first-child::after {align-self: flex-end;width: 50%;}#sk-container-id-1 div.sk-parallel-item:last-child::after {align-self: flex-start;width: 50%;}#sk-container-id-1 div.sk-parallel-item:only-child::after {width: 0;}#sk-container-id-1 div.sk-dashed-wrapped {border: 1px dashed gray;margin: 0 0.4em 0.5em 0.4em;box-sizing: border-box;padding-bottom: 0.4em;background-color: white;}#sk-container-id-1 div.sk-label label {font-family: monospace;font-weight: bold;display: inline-block;line-height: 1.2em;}#sk-container-id-1 div.sk-label-container {text-align: center;}#sk-container-id-1 div.sk-container {/* jupyter's `normalize.less` sets `[hidden] { display: none; }` but bootstrap.min.css set `[hidden] { display: none !important; }` so we also need the `!important` here to be able to override the default hidden behavior on the sphinx rendered scikit-learn.org. See: https://github.com/scikit-learn/scikit-learn/issues/21755 */display: inline-block !important;position: relative;}#sk-container-id-1 div.sk-text-repr-fallback {display: none;}</style><div id=\"sk-container-id-1\" class=\"sk-top-container\"><div class=\"sk-text-repr-fallback\"><pre>CountVectorizer()</pre><b>In a Jupyter environment, please rerun this cell to show the HTML representation or trust the notebook. <br />On GitHub, the HTML representation is unable to render, please try loading this page with nbviewer.org.</b></div><div class=\"sk-container\" hidden><div class=\"sk-item\"><div class=\"sk-estimator sk-toggleable\"><input class=\"sk-toggleable__control sk-hidden--visually\" id=\"sk-estimator-id-1\" type=\"checkbox\" checked><label for=\"sk-estimator-id-1\" class=\"sk-toggleable__label sk-toggleable__label-arrow\">CountVectorizer</label><div class=\"sk-toggleable__content\"><pre>CountVectorizer()</pre></div></div></div></div></div>"
            ]
          },
          "metadata": {},
          "execution_count": 4
        }
      ]
    },
    {
      "cell_type": "code",
      "source": [
        "print(vetorizador.vocabulary_)"
      ],
      "metadata": {
        "colab": {
          "base_uri": "https://localhost:8080/"
        },
        "id": "rnh-zBx2mWYI",
        "outputId": "f735e5d7-1ed0-431e-a50b-142a602e3b73"
      },
      "execution_count": 5,
      "outputs": [
        {
          "output_type": "stream",
          "name": "stdout",
          "text": [
            "{'tenha': 9, 'um': 10, 'bom': 1, 'dia': 3, 'péssimo': 7, 'ótimo': 11, 'ruim': 8, 'python': 6, 'java': 4, 'alura': 0, 'caelum': 2, 'papa': 5}\n"
          ]
        }
      ]
    },
    {
      "cell_type": "code",
      "source": [
        "vetor_bom = vetorizador.transform([\"bom\"])\n",
        "print(vetor_bom.toarray())\n",
        "vetor_otimo = vetorizador.transform([\"ótimo\"])\n",
        "print(vetor_otimo.toarray())"
      ],
      "metadata": {
        "colab": {
          "base_uri": "https://localhost:8080/"
        },
        "id": "0zHH_fLimXXZ",
        "outputId": "3199f927-2c97-499c-f861-92bb0611eea7"
      },
      "execution_count": 6,
      "outputs": [
        {
          "output_type": "stream",
          "name": "stdout",
          "text": [
            "[[0 1 0 0 0 0 0 0 0 0 0 0]]\n",
            "[[0 0 0 0 0 0 0 0 0 0 0 1]]\n"
          ]
        }
      ]
    },
    {
      "cell_type": "code",
      "source": [
        "# [cbow] and [skip gram] || nilc - laboratorio da usp\n",
        "#http://nilc.icmc.usp.br/nilc/index.php/repositorio-de-word-embeddings-do-nilc - Word Embeddings do NILC\n",
        "# baixar o de 300 dimensoes  word2vc"
      ],
      "metadata": {
        "id": "_PRhqQ6kmYO_"
      },
      "execution_count": 8,
      "outputs": []
    },
    {
      "cell_type": "markdown",
      "source": [
        "# carregando modelo word2vec"
      ],
      "metadata": {
        "id": "jz4_rxsTrknL"
      }
    },
    {
      "cell_type": "code",
      "source": [
        "with open(\"/content/drive/MyDrive/codealura/4-Word2Vec parte 1 and 2: interpretação da linguagem humana com Word embedding e treinamento de Word2Vec/cbow_s300.txt\") as file:\n",
        "  for linha in range(10):\n",
        "    print(next(file))"
      ],
      "metadata": {
        "id": "IKWJHM25oZRy"
      },
      "execution_count": null,
      "outputs": []
    },
    {
      "cell_type": "code",
      "source": [
        "# carregamento de um modelo word2vec a partir de um arquivo.txt de key and vector\n",
        "from gensim.models import KeyedVectors\n",
        "\n",
        "modelo = KeyedVectors.load_word2vec_format(\"/content/drive/MyDrive/codealura/4-Word2Vec parte 1 and 2: interpretação da linguagem humana com Word embedding e treinamento de Word2Vec/cbow_s300.txt\")"
      ],
      "metadata": {
        "id": "vU_lsmdtrnIW"
      },
      "execution_count": 22,
      "outputs": []
    },
    {
      "cell_type": "code",
      "source": [
        "# vetor da palavra\n",
        "modelo.get_vector('china')"
      ],
      "metadata": {
        "colab": {
          "base_uri": "https://localhost:8080/"
        },
        "id": "zX3OhnMfszoL",
        "outputId": "62aad04d-7a8b-418a-ea0a-855917985048"
      },
      "execution_count": 23,
      "outputs": [
        {
          "output_type": "execute_result",
          "data": {
            "text/plain": [
              "array([-1.49033e-01,  1.26020e-01,  2.17628e-01,  1.82684e-01,\n",
              "        1.65151e-01, -1.59660e-01, -2.34411e-01,  6.00570e-02,\n",
              "        8.03680e-02,  2.87578e-01, -4.81100e-03, -5.68800e-02,\n",
              "        2.15676e-01,  8.65540e-02,  1.25983e-01,  3.36157e-01,\n",
              "       -1.83254e-01, -1.18499e-01,  1.13010e-02,  1.03814e-01,\n",
              "        9.37640e-02,  2.90178e-01, -1.64395e-01, -1.13300e-02,\n",
              "       -1.80676e-01, -1.15820e-02,  1.08728e-01,  1.65898e-01,\n",
              "        9.37900e-02,  2.66767e-01, -1.29890e-02,  9.16030e-02,\n",
              "        2.21292e-01, -1.36497e-01, -4.26350e-02, -1.30038e-01,\n",
              "        2.17067e-01, -1.01963e-01, -3.70960e-02,  1.42155e-01,\n",
              "        3.41109e-01,  2.46560e-01,  1.27458e-01,  5.72360e-02,\n",
              "       -1.47962e-01, -1.60290e-02,  1.86533e-01,  7.71550e-02,\n",
              "       -3.50024e-01, -4.06085e-01,  1.67131e-01, -4.75230e-02,\n",
              "        5.13780e-02, -1.28224e-01,  1.06580e-02, -2.92652e-01,\n",
              "        1.40540e-01, -4.57049e-01,  1.31094e-01,  2.03234e-01,\n",
              "        2.94019e-01,  7.38370e-02,  1.11554e-01, -1.64204e-01,\n",
              "       -3.62020e-02,  1.29522e-01, -1.28321e-01,  1.37502e-01,\n",
              "       -7.99200e-03, -5.07100e-03, -2.86010e-02, -8.99040e-02,\n",
              "        8.82800e-03, -8.27730e-02,  6.91940e-02, -2.70182e-01,\n",
              "        5.47610e-02, -3.06060e-02,  6.89880e-02,  2.38759e-01,\n",
              "       -1.41775e-01,  2.34763e-01, -2.23853e-01, -2.84994e-01,\n",
              "        2.53245e-01,  6.77170e-02, -4.39663e-01, -7.00270e-02,\n",
              "        6.39150e-02, -9.67100e-02, -2.18950e-01, -5.77910e-02,\n",
              "       -1.82689e-01, -3.32202e-01, -7.83070e-02,  7.74620e-02,\n",
              "        8.82920e-02, -4.83618e-01, -1.77812e-01,  5.64040e-02,\n",
              "        1.50339e-01,  8.73000e-02, -1.03121e-01,  1.62065e-01,\n",
              "        4.57940e-02,  9.73590e-02,  1.67230e-02,  3.00791e-01,\n",
              "       -6.49640e-02, -1.95840e-01, -4.33790e-02, -9.46810e-02,\n",
              "        3.73222e-01, -1.65359e-01,  5.58780e-02,  1.72660e-02,\n",
              "       -3.16048e-01,  9.24430e-02, -6.84540e-02, -3.57085e-01,\n",
              "       -1.69469e-01, -1.14090e-01,  9.47230e-02,  3.14999e-01,\n",
              "        2.12717e-01, -2.21540e-02,  1.76870e-02,  1.58473e-01,\n",
              "       -1.39150e-02,  1.23610e-02, -4.13190e-02, -1.47159e-01,\n",
              "       -1.00070e-02,  3.41884e-01,  1.16999e-01, -5.01590e-02,\n",
              "        7.88740e-02,  6.27940e-02,  2.73643e-01,  1.46823e-01,\n",
              "       -1.68857e-01, -1.00014e-01, -5.41060e-02, -3.06130e-02,\n",
              "       -8.85920e-02, -6.19840e-02,  1.21595e-01,  1.13775e-01,\n",
              "        3.97190e-02, -8.54000e-03,  1.05670e-02,  1.12375e-01,\n",
              "        9.70000e-02,  9.05850e-02,  1.25026e-01, -2.92209e-01,\n",
              "        6.81330e-02,  4.06070e-02,  1.33042e-01, -9.77780e-02,\n",
              "       -3.26378e-01,  9.71420e-02, -5.13600e-02,  2.01450e-02,\n",
              "        1.20182e-01, -2.14210e-02, -1.30884e-01,  9.52800e-02,\n",
              "       -5.65320e-02, -8.35370e-02, -2.53035e-01,  9.18650e-02,\n",
              "        7.89190e-02, -6.30710e-02, -1.64057e-01,  8.31660e-02,\n",
              "        1.42698e-01, -2.77053e-01,  7.05810e-02, -1.37800e-02,\n",
              "       -2.74883e-01,  3.02011e-01, -8.34330e-02, -1.14381e-01,\n",
              "       -2.88826e-01,  9.03960e-02,  1.94704e-01, -1.57261e-01,\n",
              "       -2.58910e-02,  1.41321e-01, -1.67231e-01, -2.91540e-02,\n",
              "        8.03650e-02,  1.27378e-01, -1.48120e-01,  2.83291e-01,\n",
              "       -2.65930e-02,  2.15319e-01,  3.35030e-02,  6.47140e-02,\n",
              "        4.20010e-02, -3.85537e-01, -2.67068e-01, -2.77017e-01,\n",
              "       -1.82289e-01, -1.18735e-01, -2.51480e-01, -1.83783e-01,\n",
              "       -2.12362e-01,  2.50214e-01,  3.96240e-02,  2.64830e-02,\n",
              "        1.30810e-01, -1.38478e-01, -1.63040e-02, -2.55850e-02,\n",
              "        2.35141e-01, -8.80540e-02, -9.40650e-02,  1.31790e-01,\n",
              "       -8.33330e-02, -2.40020e-02, -3.38183e-01,  8.10370e-02,\n",
              "       -1.68933e-01,  1.92200e-03,  9.34870e-02,  6.58130e-02,\n",
              "       -1.11925e-01,  1.83907e-01, -6.54900e-03,  4.27730e-02,\n",
              "        3.71566e-01, -3.08570e-02,  1.99647e-01,  1.25516e-01,\n",
              "        1.38471e-01, -9.17400e-02, -2.27814e-01,  8.27690e-02,\n",
              "       -2.94581e-01,  9.56830e-02, -3.48070e-01,  1.02342e-01,\n",
              "       -8.05350e-02,  2.34290e-02, -4.19860e-02,  2.44763e-01,\n",
              "        2.37160e-02, -2.23548e-01, -9.26800e-03, -4.33650e-02,\n",
              "       -1.12413e-01, -4.19178e-01,  1.81267e-01,  1.03648e-01,\n",
              "        2.74945e-01, -9.23560e-02, -4.63300e-02, -2.06314e-01,\n",
              "        4.81410e-02,  2.64603e-01, -1.17113e-01,  1.80097e-01,\n",
              "        5.54220e-02, -1.27460e-01, -1.60328e-01,  1.02289e-01,\n",
              "        4.09530e-02,  1.25305e-01,  1.53398e-01, -2.36950e-02,\n",
              "        2.33967e-01,  2.30250e-02, -1.40227e-01,  3.16349e-01,\n",
              "       -1.99592e-01,  1.25398e-01,  2.72858e-01,  1.09793e-01,\n",
              "       -1.64379e-01,  8.63630e-02,  1.97445e-01, -2.18180e-02,\n",
              "       -1.49784e-01, -3.34461e-01, -4.61000e-04,  1.92640e-02,\n",
              "        2.11149e-01, -2.93349e-01,  5.90160e-02,  1.25044e-01,\n",
              "        7.75570e-02, -2.82863e-01, -3.38890e-02, -9.19950e-02,\n",
              "       -1.43850e-01,  1.45775e-01,  1.04246e-01, -2.60548e-01],\n",
              "      dtype=float32)"
            ]
          },
          "metadata": {},
          "execution_count": 23
        }
      ]
    },
    {
      "cell_type": "code",
      "source": [
        "# palavras mais similares e vetores !!!!\n",
        "print(modelo.most_similar('china'))\n",
        "# faz a soma entre os dois vetores das palavras e busca as palavras mais próximas do vetor resultante\n",
        "modelo.most_similar(positive=[\"brasil\", \"argentina\"])"
      ],
      "metadata": {
        "colab": {
          "base_uri": "https://localhost:8080/"
        },
        "id": "7FJwKdZ-tAVF",
        "outputId": "3b237711-2d17-4315-cad2-59a82c46db1b"
      },
      "execution_count": 24,
      "outputs": [
        {
          "output_type": "stream",
          "name": "stdout",
          "text": [
            "[('rússia', 0.7320705056190491), ('índia', 0.7241616249084473), ('tailândia', 0.701935887336731), ('indonésia', 0.6860769987106323), ('turquia', 0.6741335988044739), ('malásia', 0.6665689945220947), ('mongólia', 0.6593616008758545), ('manchúria', 0.658184826374054), ('urss', 0.6581669449806213), ('grã-bretanha', 0.6568097472190857)]\n"
          ]
        },
        {
          "output_type": "execute_result",
          "data": {
            "text/plain": [
              "[('chile', 0.6781662702560425),\n",
              " ('peru', 0.634803295135498),\n",
              " ('venezuela', 0.6273865699768066),\n",
              " ('equador', 0.6037014126777649),\n",
              " ('bolívia', 0.6017141342163086),\n",
              " ('haiti', 0.5993806719779968),\n",
              " ('méxico', 0.596230685710907),\n",
              " ('paraguai', 0.5957703590393066),\n",
              " ('uruguai', 0.590367317199707),\n",
              " ('japão', 0.5893509387969971)]"
            ]
          },
          "metadata": {},
          "execution_count": 24
        }
      ]
    },
    {
      "cell_type": "code",
      "source": [
        "# nuvens -> nuvem : estrelas -> estrela\n",
        "# nuvens +  estrela - nuvem = estrelas\n",
        "\n",
        "modelo.most_similar(positive=[\"nuvens\", \"estrela\"], negative=[\"nuvem\"])"
      ],
      "metadata": {
        "colab": {
          "base_uri": "https://localhost:8080/"
        },
        "id": "nMzRmgObvbOU",
        "outputId": "285f01f1-90b6-4055-b413-c3b4263c3452"
      },
      "execution_count": 25,
      "outputs": [
        {
          "output_type": "execute_result",
          "data": {
            "text/plain": [
              "[('estrelas', 0.5497430562973022),\n",
              " ('plêiades', 0.3791979253292084),\n",
              " ('colinas', 0.3746805489063263),\n",
              " ('trovoadas', 0.373703271150589),\n",
              " ('sombras', 0.37341946363449097),\n",
              " ('pombas', 0.3726757764816284),\n",
              " ('corredoras', 0.3640727400779724),\n",
              " ('cigarras', 0.36065396666526794),\n",
              " ('galáxias', 0.35754913091659546),\n",
              " ('luas', 0.3575345277786255)]"
            ]
          },
          "metadata": {},
          "execution_count": 25
        }
      ]
    },
    {
      "cell_type": "code",
      "source": [
        "modelo.most_similar(positive=[\"médico\", \"mulher\"], negative=[\"homem\"])\n",
        "modelo.most_similar(positive=[\"professor\", \"mulher\"], negative=[\"homem\"])\n",
        "modelo.most_similar(positive=[\"delegado\", \"mulher\"], negative=[\"homem\"])"
      ],
      "metadata": {
        "colab": {
          "base_uri": "https://localhost:8080/"
        },
        "id": "ayaYf71uwMFI",
        "outputId": "d47b772f-d6be-4321-f30c-d8855d3a4bdc"
      },
      "execution_count": 30,
      "outputs": [
        {
          "output_type": "execute_result",
          "data": {
            "text/plain": [
              "[('enfermeira', 0.5199974179267883),\n",
              " ('advogada', 0.4932612180709839),\n",
              " ('delegada', 0.49268317222595215),\n",
              " ('dama-de-companhia', 0.4576503336429596),\n",
              " ('madrasta', 0.45745649933815),\n",
              " ('esposa', 0.4566546678543091),\n",
              " ('geógrafa', 0.4557585120201111),\n",
              " ('namorada', 0.45138540863990784),\n",
              " ('cabeleireira', 0.4490765631198883),\n",
              " ('psicóloga', 0.4423496425151825)]"
            ]
          },
          "metadata": {},
          "execution_count": 30
        }
      ]
    },
    {
      "cell_type": "markdown",
      "source": [
        "# VETORIZAÇÃO DE TEXTO\n",
        "### https://web.stanford.edu/~jurafsky/slp3/6.pdf\n",
        "    One-hot encoding: Nesta técnica, cada palavra em um vocabulário é representada por um vetor binário, onde todos os elementos são zeros, exceto um, que é um. Esse um indica a posição da palavra no vocabulário. Por exemplo, se tivermos um vocabulário de 1000 palavras, cada palavra seria representada por um vetor de 1000 elementos, com apenas um deles como 1 e os outros como 0.\n",
        "\n",
        "    Word2Vec: É uma técnica de representação vetorial de palavras em espaço contínuo. Ela mapeia palavras para vetores de números reais de tal forma que palavras semelhantes estejam próximas umas das outras nesse espaço. Word2Vec é treinado em grandes corpora de texto usando redes neurais e pode capturar relações semânticas e sintáticas entre palavras.\n",
        "\n",
        "    TF-IDF (Term Frequency-Inverse Document Frequency): Esta técnica atribui pesos às palavras com base em sua frequência no documento e em seu inverso na coleção de documentos. Isso destaca palavras que são frequentes em um documento específico, mas não são comuns em toda a coleção.\n",
        "\n",
        "    GloVe (Global Vectors for Word Representation): Similar ao word2vec, o GloVe também mapeia palavras em vetores de números reais. No entanto, ele é treinado usando estatísticas globais de coocorrência de palavras em vez de uma rede neural específica.\n",
        "\n",
        "    FastText: Desenvolvido pelo Facebook AI Research (FAIR), o FastText é uma extensão do word2vec que inclui informações de subpalavras. Isso permite a representação de palavras que não estão no vocabulário, bem como a captura de informações morfológicas.\n",
        "\n",
        "    BERT (Bidirectional Encoder Representations from Transformers): BERT é um modelo de linguagem baseado em transformers que é pré-treinado em grandes quantidades de texto. Embora seja mais conhecido por sua capacidade de realizar tarefas de processamento de linguagem natural (NLP), as representações vetoriais aprendidas pelo BERT também podem ser usadas para vetorização de palavras.\n",
        "\n",
        "    Doc2Vec: Uma extensão do word2vec que não apenas aprende vetores para palavras, mas também para documentos inteiros. Cada documento é associado a um vetor, assim como as palavras são associadas a vetores no word2vec."
      ],
      "metadata": {
        "id": "lPe-EndEzB_C"
      }
    },
    {
      "cell_type": "code",
      "source": [
        "artigo_treino[\"title\"].loc[12]"
      ],
      "metadata": {
        "colab": {
          "base_uri": "https://localhost:8080/",
          "height": 35
        },
        "id": "iA8CzNsNwbWr",
        "outputId": "b3ec7944-9235-4ad7-c503-62b489937df3"
      },
      "execution_count": 31,
      "outputs": [
        {
          "output_type": "execute_result",
          "data": {
            "text/plain": [
              "\"Daniel Craig será stormtrooper em novo 'Star Wars', diz ator\""
            ],
            "application/vnd.google.colaboratory.intrinsic+json": {
              "type": "string"
            }
          },
          "metadata": {},
          "execution_count": 31
        }
      ]
    },
    {
      "cell_type": "code",
      "source": [
        "import nltk\n",
        "import string\n",
        "nltk.download(\"punkt\")\n",
        "def tokenizador(texto):\n",
        "  texto = texto.lower()\n",
        "  lista_alfanumerico = []\n",
        "  for token_valido in nltk.word_tokenize(texto):\n",
        "    if token_valido in string.punctuation: continue\n",
        "    lista_alfanumerico.append(token_valido)\n",
        "  return lista_alfanumerico\n"
      ],
      "metadata": {
        "colab": {
          "base_uri": "https://localhost:8080/"
        },
        "id": "QN5Q9xmw0reE",
        "outputId": "077c8311-385e-4e74-9e6a-d8ebe6f3beb5"
      },
      "execution_count": 32,
      "outputs": [
        {
          "output_type": "stream",
          "name": "stderr",
          "text": [
            "[nltk_data] Downloading package punkt to /root/nltk_data...\n",
            "[nltk_data]   Package punkt is already up-to-date!\n"
          ]
        }
      ]
    },
    {
      "cell_type": "code",
      "source": [
        "tokenizador(\"texto exemplo, 123.\")"
      ],
      "metadata": {
        "colab": {
          "base_uri": "https://localhost:8080/"
        },
        "id": "Vmg2mrQB3bR9",
        "outputId": "6985174e-86cc-4111-de1c-fed0d7721ecf"
      },
      "execution_count": 33,
      "outputs": [
        {
          "output_type": "execute_result",
          "data": {
            "text/plain": [
              "['texto', 'exemplo', '123']"
            ]
          },
          "metadata": {},
          "execution_count": 33
        }
      ]
    },
    {
      "cell_type": "code",
      "source": [
        "import numpy as np\n",
        "\n",
        "def combinacao_de_vetores_por_soma(palavras_numeros):\n",
        "  vetor_resultante = np.zeros(300)\n",
        "  for pn in palavras_numeros:\n",
        "    try:\n",
        "      vetor_resultante += modelo.get_vector(pn)\n",
        "    except KeyError:\n",
        "      if pn.isnumeric():\n",
        "        pn = \"0\"*len(pn)\n",
        "        vetor_resultante += modelo.get_vector(pn)\n",
        "      else:\n",
        "        vetor_resultante += modelo.get_vector(\"unknown\")\n",
        "  return vetor_resultante"
      ],
      "metadata": {
        "id": "JAF1JftQ4AqE"
      },
      "execution_count": 55,
      "outputs": []
    },
    {
      "cell_type": "code",
      "source": [
        "\"\"\"\n",
        "  Por conta do pré processamento feito no word embb, pode acontecer de\n",
        "  uma palavra que não é comum ser colocada como UNKNOWN e quando houver\n",
        "  um número pode dar erro também, pois no pré processamento, todos os\n",
        "  número foram trocados por zero.\n",
        "\"\"\"\n",
        "palavras_numeros = tokenizador(\"texto caleemmi\")  # teste com \"texto caleemmi || texto 928\"\n",
        "vetor_texto = combinacao_de_vetores_por_soma(palavras_numeros)\n",
        "len(vetor_texto), vetor_texto"
      ],
      "metadata": {
        "colab": {
          "base_uri": "https://localhost:8080/"
        },
        "id": "n1Emhlmb45_z",
        "outputId": "c626adb3-df8a-4da4-9020-1f72a1d9cfc8"
      },
      "execution_count": 59,
      "outputs": [
        {
          "output_type": "execute_result",
          "data": {
            "text/plain": [
              "(300,\n",
              " array([ 4.04902007e-01,  1.61033005e-01, -1.28350001e-01,  4.63957988e-01,\n",
              "        -3.79070006e-02,  9.79099981e-02,  6.06219992e-02,  2.50669867e-02,\n",
              "        -1.45315003e-01, -1.20187001e-01, -1.45029984e-02, -3.97820026e-02,\n",
              "        -5.53439990e-01,  3.39491010e-01,  4.74720001e-02,  2.32610006e-01,\n",
              "        -7.91507989e-01,  7.62100518e-03, -4.30413000e-01, -1.62210986e-01,\n",
              "        -1.36736006e-01, -2.92862996e-01, -7.81050026e-02,  4.56106991e-01,\n",
              "        -1.08597010e-01, -1.72903001e-01, -3.94289017e-01, -7.94299692e-03,\n",
              "         1.54560007e-01, -1.81829929e-02, -1.44808993e-01, -1.92361996e-01,\n",
              "         5.27470000e-02,  2.77960012e-02,  3.75599414e-03,  2.15162002e-01,\n",
              "         2.41512008e-01,  2.07674988e-01,  1.77449007e-01,  2.00845003e-01,\n",
              "         1.08239995e-02, -1.03557003e-01,  4.52470034e-02,  3.54460012e-02,\n",
              "         2.74897987e-01, -7.71570001e-02,  4.26173002e-01,  4.57773015e-01,\n",
              "         2.98846003e-01,  2.85166003e-01,  1.75556996e-01,  1.93372004e-01,\n",
              "        -2.64183000e-01,  1.87287997e-01,  2.00636007e-01, -1.48244001e-01,\n",
              "         1.16369996e-01,  5.01876995e-01, -2.73249969e-02, -3.36082000e-01,\n",
              "        -1.06219009e-01,  4.23524987e-01,  1.28744990e-01, -1.98225003e-01,\n",
              "         1.14148993e-01, -1.25489000e-01,  4.15736988e-01,  2.05809958e-02,\n",
              "         2.32367992e-01, -2.06323002e-01,  1.77664001e-01, -5.38936019e-01,\n",
              "         1.96721995e-01, -1.02734990e-01, -3.09021994e-01,  8.97740014e-02,\n",
              "        -3.16364005e-01, -2.96394996e-01,  1.56473998e-01,  6.75339978e-02,\n",
              "        -2.85212003e-01, -4.68930006e-02,  5.95229000e-01, -3.89000028e-02,\n",
              "        -1.57348998e-01, -6.07699156e-03, -4.04890992e-01,  2.97449993e-01,\n",
              "         1.63218006e-01, -3.78456987e-01, -2.16413990e-01, -4.07410040e-02,\n",
              "        -9.21399891e-03,  3.70410085e-02, -2.91540027e-02,  1.31810009e-02,\n",
              "         1.34384997e-01,  1.30410001e-01,  9.68170017e-02, -3.55980992e-01,\n",
              "         2.14397006e-01, -2.98079006e-01,  2.54114997e-01, -1.51478000e-01,\n",
              "         1.95116995e-01,  2.09010001e-01, -1.63654998e-01,  3.20399009e-01,\n",
              "        -2.51417004e-01,  2.53486998e-01,  4.42780033e-02,  2.24656996e-01,\n",
              "         8.25779997e-02, -2.04713996e-01, -3.06100026e-03,  2.70969868e-02,\n",
              "        -1.38156980e-01, -2.51079008e-01,  1.61626004e-01,  1.95170045e-02,\n",
              "         3.43521997e-01, -3.87043998e-01, -8.47560018e-02, -3.38781985e-01,\n",
              "        -1.14501003e-01, -7.03117013e-01, -2.56285995e-01,  4.24469993e-02,\n",
              "        -1.62145995e-01,  4.75210987e-01, -2.77539000e-01,  7.60199875e-02,\n",
              "        -1.06837997e-01, -9.87000763e-04,  1.72742993e-01, -2.99829011e-01,\n",
              "         2.28087999e-01,  3.52940038e-02,  2.89734993e-01,  2.79758990e-01,\n",
              "        -2.87392993e-01,  8.17699730e-03,  2.14280997e-01,  2.25391012e-01,\n",
              "        -7.59299994e-02, -1.23466007e-01, -2.72139981e-02, -2.64430046e-02,\n",
              "         5.86279005e-01, -2.40319993e-02, -2.68981993e-01,  2.25396007e-01,\n",
              "        -3.03109884e-02, -2.71128006e-01, -1.62265003e-01,  6.46600127e-03,\n",
              "         3.39117015e-01,  5.28680012e-02,  1.92705989e-01, -5.51650003e-02,\n",
              "         1.44278001e-01,  2.49232002e-01, -5.09869996e-02, -3.06719005e-01,\n",
              "        -2.48060040e-02,  2.31652994e-01,  2.77169995e-01,  1.89650998e-01,\n",
              "        -6.40159994e-02,  5.75810010e-02, -9.78650004e-02,  4.85200435e-03,\n",
              "         4.45419997e-02, -1.88349998e-01, -6.07778013e-01, -1.39748003e-01,\n",
              "         3.68884996e-01, -3.19058999e-01, -7.32080005e-02, -4.49153997e-01,\n",
              "        -2.37713000e-01, -1.51614994e-01, -3.09304014e-01, -1.56432007e-01,\n",
              "         4.18815009e-01, -3.89327988e-01,  3.78332011e-01, -4.00199965e-02,\n",
              "        -6.51219994e-01, -5.50040156e-02, -1.93998218e-04, -9.10810027e-02,\n",
              "        -2.88987003e-01,  1.36337005e-01,  1.07480004e-01,  5.68140998e-01,\n",
              "        -3.27486984e-01, -4.62799985e-01,  2.03891002e-01,  1.49019003e-01,\n",
              "        -2.44706005e-01, -1.99469005e-01,  8.01479965e-02,  2.98199998e-02,\n",
              "        -1.31894002e-01,  1.15945004e-01,  8.99800286e-03, -3.35849009e-01,\n",
              "         3.68386969e-01,  3.43659982e-01,  4.19899821e-03,  8.20260011e-02,\n",
              "         4.53375012e-01,  6.57530016e-02,  7.55139990e-02,  3.60649996e-02,\n",
              "         5.19831993e-01, -1.47042006e-01, -2.90375011e-01, -1.32993003e-01,\n",
              "        -2.00269002e-01,  1.88818000e-01, -2.63435002e-01, -1.86488993e-01,\n",
              "         1.89731000e-01,  1.17092013e-01, -6.79409951e-02, -7.07589984e-02,\n",
              "        -2.77480036e-02, -1.21008001e-01, -2.21680000e-01, -2.02926997e-01,\n",
              "         1.03461001e-01, -4.55000028e-02, -1.61133002e-01, -2.65853986e-01,\n",
              "        -3.72106001e-01,  1.30873001e-01, -1.40520036e-02, -3.46357003e-01,\n",
              "        -2.55110003e-02,  3.54763001e-01,  1.88224000e-01, -6.63699955e-03,\n",
              "         6.33194998e-01,  2.15856001e-01,  1.53947005e-01,  4.10899967e-02,\n",
              "         3.06820998e-01,  1.06974006e-01, -7.21679926e-02,  1.75355002e-01,\n",
              "        -5.81880002e-02, -2.46847994e-01,  2.00998999e-01,  3.76706995e-01,\n",
              "         3.04477009e-01, -5.40189967e-02,  3.21371995e-01, -2.00102992e-01,\n",
              "         1.52778007e-01,  1.51184998e-01,  1.51455004e-01,  1.15802005e-01,\n",
              "         2.59180069e-02, -1.06971003e-01,  3.22931997e-01, -3.25010000e-02,\n",
              "         3.03647995e-01, -2.75807986e-01, -2.92581989e-01,  4.18120027e-02,\n",
              "         2.87143990e-01,  4.63455006e-01, -2.67790999e-01,  6.72599673e-03,\n",
              "         2.14253999e-01,  2.98653997e-01,  2.97100022e-02, -4.63071994e-01,\n",
              "        -2.20077008e-01, -2.79074993e-01, -1.11349970e-02,  1.69707993e-01,\n",
              "         2.01697998e-01, -2.11112998e-01, -5.53999841e-03, -3.71473014e-01,\n",
              "        -6.25945002e-01, -4.84354988e-01,  5.33823982e-01, -8.99890019e-02,\n",
              "        -1.57629006e-01,  1.03843000e-01, -1.16449997e-01,  4.12781991e-01,\n",
              "         4.35150117e-02, -5.21820009e-01,  6.19100034e-02,  8.41154024e-01]))"
            ]
          },
          "metadata": {},
          "execution_count": 59
        }
      ]
    },
    {
      "cell_type": "code",
      "source": [
        "# vetorizando treino e texto\n",
        "import numpy as np\n",
        "\n",
        "def matriz_vetores(textos):\n",
        "  x = len(textos)\n",
        "  y = 300\n",
        "  matriz = np.zeros((x,y))\n",
        "\n",
        "  for i in range(x):\n",
        "    palavras_numeros = tokenizador(textos.iloc[i])\n",
        "    matriz[i] = combinacao_de_vetores_por_soma(palavras_numeros)\n",
        "\n",
        "  return matriz\n",
        "\n",
        "\n",
        "matriz_vetores_treino = matriz_vetores(artigo_treino.title)\n",
        "matriz_vetores_teste = matriz_vetores(artigo_teste.title)\n"
      ],
      "metadata": {
        "id": "vlVddwJTAyWh"
      },
      "execution_count": 65,
      "outputs": []
    },
    {
      "cell_type": "code",
      "source": [
        "matriz_vetores_treino.shape, matriz_vetores_teste.shape"
      ],
      "metadata": {
        "colab": {
          "base_uri": "https://localhost:8080/"
        },
        "id": "mqCGSaObHPM8",
        "outputId": "4c3ab909-f824-4597-d541-1a8afaa6c63b"
      },
      "execution_count": 68,
      "outputs": [
        {
          "output_type": "execute_result",
          "data": {
            "text/plain": [
              "((90000, 300), (20513, 300))"
            ]
          },
          "metadata": {},
          "execution_count": 68
        }
      ]
    },
    {
      "cell_type": "code",
      "source": [
        "artigo_treino.category[0:5]"
      ],
      "metadata": {
        "colab": {
          "base_uri": "https://localhost:8080/"
        },
        "id": "iW7pzYSXH2hy",
        "outputId": "3373f160-03be-4da3-8592-1ec8da2e9e59"
      },
      "execution_count": 71,
      "outputs": [
        {
          "output_type": "execute_result",
          "data": {
            "text/plain": [
              "0        mundo\n",
              "1        mundo\n",
              "2        mundo\n",
              "3    cotidiano\n",
              "4      mercado\n",
              "Name: category, dtype: object"
            ]
          },
          "metadata": {},
          "execution_count": 71
        }
      ]
    },
    {
      "cell_type": "code",
      "source": [
        "from sklearn.linear_model import LogisticRegression\n",
        "\n",
        "LR = LogisticRegression(max_iter=200)\n",
        "LR.fit(matriz_vetores_treino, artigo_treino.category)"
      ],
      "metadata": {
        "colab": {
          "base_uri": "https://localhost:8080/",
          "height": 75
        },
        "id": "GLLpuJtlHcjE",
        "outputId": "1b6e34af-8899-4e00-a0e7-ff01aba157de"
      },
      "execution_count": 73,
      "outputs": [
        {
          "output_type": "execute_result",
          "data": {
            "text/plain": [
              "LogisticRegression(max_iter=200)"
            ],
            "text/html": [
              "<style>#sk-container-id-3 {color: black;background-color: white;}#sk-container-id-3 pre{padding: 0;}#sk-container-id-3 div.sk-toggleable {background-color: white;}#sk-container-id-3 label.sk-toggleable__label {cursor: pointer;display: block;width: 100%;margin-bottom: 0;padding: 0.3em;box-sizing: border-box;text-align: center;}#sk-container-id-3 label.sk-toggleable__label-arrow:before {content: \"▸\";float: left;margin-right: 0.25em;color: #696969;}#sk-container-id-3 label.sk-toggleable__label-arrow:hover:before {color: black;}#sk-container-id-3 div.sk-estimator:hover label.sk-toggleable__label-arrow:before {color: black;}#sk-container-id-3 div.sk-toggleable__content {max-height: 0;max-width: 0;overflow: hidden;text-align: left;background-color: #f0f8ff;}#sk-container-id-3 div.sk-toggleable__content pre {margin: 0.2em;color: black;border-radius: 0.25em;background-color: #f0f8ff;}#sk-container-id-3 input.sk-toggleable__control:checked~div.sk-toggleable__content {max-height: 200px;max-width: 100%;overflow: auto;}#sk-container-id-3 input.sk-toggleable__control:checked~label.sk-toggleable__label-arrow:before {content: \"▾\";}#sk-container-id-3 div.sk-estimator input.sk-toggleable__control:checked~label.sk-toggleable__label {background-color: #d4ebff;}#sk-container-id-3 div.sk-label input.sk-toggleable__control:checked~label.sk-toggleable__label {background-color: #d4ebff;}#sk-container-id-3 input.sk-hidden--visually {border: 0;clip: rect(1px 1px 1px 1px);clip: rect(1px, 1px, 1px, 1px);height: 1px;margin: -1px;overflow: hidden;padding: 0;position: absolute;width: 1px;}#sk-container-id-3 div.sk-estimator {font-family: monospace;background-color: #f0f8ff;border: 1px dotted black;border-radius: 0.25em;box-sizing: border-box;margin-bottom: 0.5em;}#sk-container-id-3 div.sk-estimator:hover {background-color: #d4ebff;}#sk-container-id-3 div.sk-parallel-item::after {content: \"\";width: 100%;border-bottom: 1px solid gray;flex-grow: 1;}#sk-container-id-3 div.sk-label:hover label.sk-toggleable__label {background-color: #d4ebff;}#sk-container-id-3 div.sk-serial::before {content: \"\";position: absolute;border-left: 1px solid gray;box-sizing: border-box;top: 0;bottom: 0;left: 50%;z-index: 0;}#sk-container-id-3 div.sk-serial {display: flex;flex-direction: column;align-items: center;background-color: white;padding-right: 0.2em;padding-left: 0.2em;position: relative;}#sk-container-id-3 div.sk-item {position: relative;z-index: 1;}#sk-container-id-3 div.sk-parallel {display: flex;align-items: stretch;justify-content: center;background-color: white;position: relative;}#sk-container-id-3 div.sk-item::before, #sk-container-id-3 div.sk-parallel-item::before {content: \"\";position: absolute;border-left: 1px solid gray;box-sizing: border-box;top: 0;bottom: 0;left: 50%;z-index: -1;}#sk-container-id-3 div.sk-parallel-item {display: flex;flex-direction: column;z-index: 1;position: relative;background-color: white;}#sk-container-id-3 div.sk-parallel-item:first-child::after {align-self: flex-end;width: 50%;}#sk-container-id-3 div.sk-parallel-item:last-child::after {align-self: flex-start;width: 50%;}#sk-container-id-3 div.sk-parallel-item:only-child::after {width: 0;}#sk-container-id-3 div.sk-dashed-wrapped {border: 1px dashed gray;margin: 0 0.4em 0.5em 0.4em;box-sizing: border-box;padding-bottom: 0.4em;background-color: white;}#sk-container-id-3 div.sk-label label {font-family: monospace;font-weight: bold;display: inline-block;line-height: 1.2em;}#sk-container-id-3 div.sk-label-container {text-align: center;}#sk-container-id-3 div.sk-container {/* jupyter's `normalize.less` sets `[hidden] { display: none; }` but bootstrap.min.css set `[hidden] { display: none !important; }` so we also need the `!important` here to be able to override the default hidden behavior on the sphinx rendered scikit-learn.org. See: https://github.com/scikit-learn/scikit-learn/issues/21755 */display: inline-block !important;position: relative;}#sk-container-id-3 div.sk-text-repr-fallback {display: none;}</style><div id=\"sk-container-id-3\" class=\"sk-top-container\"><div class=\"sk-text-repr-fallback\"><pre>LogisticRegression(max_iter=200)</pre><b>In a Jupyter environment, please rerun this cell to show the HTML representation or trust the notebook. <br />On GitHub, the HTML representation is unable to render, please try loading this page with nbviewer.org.</b></div><div class=\"sk-container\" hidden><div class=\"sk-item\"><div class=\"sk-estimator sk-toggleable\"><input class=\"sk-toggleable__control sk-hidden--visually\" id=\"sk-estimator-id-3\" type=\"checkbox\" checked><label for=\"sk-estimator-id-3\" class=\"sk-toggleable__label sk-toggleable__label-arrow\">LogisticRegression</label><div class=\"sk-toggleable__content\"><pre>LogisticRegression(max_iter=200)</pre></div></div></div></div></div>"
            ]
          },
          "metadata": {},
          "execution_count": 73
        }
      ]
    },
    {
      "cell_type": "code",
      "source": [
        "LR.n_iter_"
      ],
      "metadata": {
        "colab": {
          "base_uri": "https://localhost:8080/"
        },
        "id": "yXWJ8DwDH_Do",
        "outputId": "313cc81a-9855-4c76-b3fc-28ed4a53a2a8"
      },
      "execution_count": 85,
      "outputs": [
        {
          "output_type": "execute_result",
          "data": {
            "text/plain": [
              "array([118], dtype=int32)"
            ]
          },
          "metadata": {},
          "execution_count": 85
        }
      ]
    },
    {
      "cell_type": "code",
      "source": [
        "# score todas categorias\n",
        "LR.score(matriz_vetores_teste, artigo_teste.category)"
      ],
      "metadata": {
        "colab": {
          "base_uri": "https://localhost:8080/"
        },
        "id": "pfFfEVLOJKfA",
        "outputId": "a6319b62-e431-44df-996b-c5448f2503f1"
      },
      "execution_count": 86,
      "outputs": [
        {
          "output_type": "execute_result",
          "data": {
            "text/plain": [
              "0.7957880368546775"
            ]
          },
          "metadata": {},
          "execution_count": 86
        }
      ]
    },
    {
      "cell_type": "code",
      "source": [
        "artigo_teste.category.unique()"
      ],
      "metadata": {
        "colab": {
          "base_uri": "https://localhost:8080/"
        },
        "id": "d7rF3RgxJTRf",
        "outputId": "bb880727-28d4-4ef3-8d6e-55025a19b34a"
      },
      "execution_count": 87,
      "outputs": [
        {
          "output_type": "execute_result",
          "data": {
            "text/plain": [
              "array(['colunas', 'esporte', 'mercado', 'cotidiano', 'mundo', 'ilustrada'],\n",
              "      dtype=object)"
            ]
          },
          "metadata": {},
          "execution_count": 87
        }
      ]
    },
    {
      "cell_type": "code",
      "source": [
        "from sklearn.metrics import classification_report\n",
        "label_prevista = LR.predict(matriz_vetores_teste)\n",
        "\n",
        "CR = classification_report(artigo_teste.category, label_prevista)\n",
        "print(CR)"
      ],
      "metadata": {
        "colab": {
          "base_uri": "https://localhost:8080/"
        },
        "id": "bhflo-fMJZxo",
        "outputId": "71714b51-5bcb-4ee5-ae17-5750cfb4911c"
      },
      "execution_count": 93,
      "outputs": [
        {
          "output_type": "stream",
          "name": "stdout",
          "text": [
            "              precision    recall  f1-score   support\n",
            "\n",
            "     colunas       0.86      0.71      0.78      6103\n",
            "   cotidiano       0.61      0.79      0.69      1698\n",
            "     esporte       0.92      0.88      0.90      4663\n",
            "   ilustrada       0.13      0.88      0.23       131\n",
            "     mercado       0.84      0.79      0.81      5867\n",
            "       mundo       0.74      0.86      0.79      2051\n",
            "\n",
            "    accuracy                           0.80     20513\n",
            "   macro avg       0.68      0.82      0.70     20513\n",
            "weighted avg       0.83      0.80      0.81     20513\n",
            "\n"
          ]
        }
      ]
    },
    {
      "cell_type": "code",
      "source": [
        "from sklearn.dummy import DummyClassifier\n",
        "\n",
        "DC = DummyClassifier()\n",
        "DC.fit(matriz_vetores_treino, artigo_treino.category)"
      ],
      "metadata": {
        "colab": {
          "base_uri": "https://localhost:8080/",
          "height": 75
        },
        "id": "yz24WZmKLwYk",
        "outputId": "90226d67-ed0f-4023-89ec-4d5aa8bc40ae"
      },
      "execution_count": 96,
      "outputs": [
        {
          "output_type": "execute_result",
          "data": {
            "text/plain": [
              "DummyClassifier()"
            ],
            "text/html": [
              "<style>#sk-container-id-6 {color: black;background-color: white;}#sk-container-id-6 pre{padding: 0;}#sk-container-id-6 div.sk-toggleable {background-color: white;}#sk-container-id-6 label.sk-toggleable__label {cursor: pointer;display: block;width: 100%;margin-bottom: 0;padding: 0.3em;box-sizing: border-box;text-align: center;}#sk-container-id-6 label.sk-toggleable__label-arrow:before {content: \"▸\";float: left;margin-right: 0.25em;color: #696969;}#sk-container-id-6 label.sk-toggleable__label-arrow:hover:before {color: black;}#sk-container-id-6 div.sk-estimator:hover label.sk-toggleable__label-arrow:before {color: black;}#sk-container-id-6 div.sk-toggleable__content {max-height: 0;max-width: 0;overflow: hidden;text-align: left;background-color: #f0f8ff;}#sk-container-id-6 div.sk-toggleable__content pre {margin: 0.2em;color: black;border-radius: 0.25em;background-color: #f0f8ff;}#sk-container-id-6 input.sk-toggleable__control:checked~div.sk-toggleable__content {max-height: 200px;max-width: 100%;overflow: auto;}#sk-container-id-6 input.sk-toggleable__control:checked~label.sk-toggleable__label-arrow:before {content: \"▾\";}#sk-container-id-6 div.sk-estimator input.sk-toggleable__control:checked~label.sk-toggleable__label {background-color: #d4ebff;}#sk-container-id-6 div.sk-label input.sk-toggleable__control:checked~label.sk-toggleable__label {background-color: #d4ebff;}#sk-container-id-6 input.sk-hidden--visually {border: 0;clip: rect(1px 1px 1px 1px);clip: rect(1px, 1px, 1px, 1px);height: 1px;margin: -1px;overflow: hidden;padding: 0;position: absolute;width: 1px;}#sk-container-id-6 div.sk-estimator {font-family: monospace;background-color: #f0f8ff;border: 1px dotted black;border-radius: 0.25em;box-sizing: border-box;margin-bottom: 0.5em;}#sk-container-id-6 div.sk-estimator:hover {background-color: #d4ebff;}#sk-container-id-6 div.sk-parallel-item::after {content: \"\";width: 100%;border-bottom: 1px solid gray;flex-grow: 1;}#sk-container-id-6 div.sk-label:hover label.sk-toggleable__label {background-color: #d4ebff;}#sk-container-id-6 div.sk-serial::before {content: \"\";position: absolute;border-left: 1px solid gray;box-sizing: border-box;top: 0;bottom: 0;left: 50%;z-index: 0;}#sk-container-id-6 div.sk-serial {display: flex;flex-direction: column;align-items: center;background-color: white;padding-right: 0.2em;padding-left: 0.2em;position: relative;}#sk-container-id-6 div.sk-item {position: relative;z-index: 1;}#sk-container-id-6 div.sk-parallel {display: flex;align-items: stretch;justify-content: center;background-color: white;position: relative;}#sk-container-id-6 div.sk-item::before, #sk-container-id-6 div.sk-parallel-item::before {content: \"\";position: absolute;border-left: 1px solid gray;box-sizing: border-box;top: 0;bottom: 0;left: 50%;z-index: -1;}#sk-container-id-6 div.sk-parallel-item {display: flex;flex-direction: column;z-index: 1;position: relative;background-color: white;}#sk-container-id-6 div.sk-parallel-item:first-child::after {align-self: flex-end;width: 50%;}#sk-container-id-6 div.sk-parallel-item:last-child::after {align-self: flex-start;width: 50%;}#sk-container-id-6 div.sk-parallel-item:only-child::after {width: 0;}#sk-container-id-6 div.sk-dashed-wrapped {border: 1px dashed gray;margin: 0 0.4em 0.5em 0.4em;box-sizing: border-box;padding-bottom: 0.4em;background-color: white;}#sk-container-id-6 div.sk-label label {font-family: monospace;font-weight: bold;display: inline-block;line-height: 1.2em;}#sk-container-id-6 div.sk-label-container {text-align: center;}#sk-container-id-6 div.sk-container {/* jupyter's `normalize.less` sets `[hidden] { display: none; }` but bootstrap.min.css set `[hidden] { display: none !important; }` so we also need the `!important` here to be able to override the default hidden behavior on the sphinx rendered scikit-learn.org. See: https://github.com/scikit-learn/scikit-learn/issues/21755 */display: inline-block !important;position: relative;}#sk-container-id-6 div.sk-text-repr-fallback {display: none;}</style><div id=\"sk-container-id-6\" class=\"sk-top-container\"><div class=\"sk-text-repr-fallback\"><pre>DummyClassifier()</pre><b>In a Jupyter environment, please rerun this cell to show the HTML representation or trust the notebook. <br />On GitHub, the HTML representation is unable to render, please try loading this page with nbviewer.org.</b></div><div class=\"sk-container\" hidden><div class=\"sk-item\"><div class=\"sk-estimator sk-toggleable\"><input class=\"sk-toggleable__control sk-hidden--visually\" id=\"sk-estimator-id-6\" type=\"checkbox\" checked><label for=\"sk-estimator-id-6\" class=\"sk-toggleable__label sk-toggleable__label-arrow\">DummyClassifier</label><div class=\"sk-toggleable__content\"><pre>DummyClassifier()</pre></div></div></div></div></div>"
            ]
          },
          "metadata": {},
          "execution_count": 96
        }
      ]
    },
    {
      "cell_type": "code",
      "source": [
        "from sklearn.metrics import classification_report\n",
        "label_prevista_dc = DC.predict(matriz_vetores_teste)\n",
        "\n",
        "CR_dummy = classification_report(artigo_teste.category, label_prevista_dc, zero_division=1)\n",
        "print(CR_dummy)"
      ],
      "metadata": {
        "colab": {
          "base_uri": "https://localhost:8080/"
        },
        "id": "--LBDKqLMPsF",
        "outputId": "4eeab7dd-67b2-4786-a2d3-3d1fc77c6048"
      },
      "execution_count": 91,
      "outputs": [
        {
          "output_type": "stream",
          "name": "stdout",
          "text": [
            "              precision    recall  f1-score   support\n",
            "\n",
            "     colunas       0.30      1.00      0.46      6103\n",
            "   cotidiano       1.00      0.00      0.00      1698\n",
            "     esporte       1.00      0.00      0.00      4663\n",
            "   ilustrada       1.00      0.00      0.00       131\n",
            "     mercado       1.00      0.00      0.00      5867\n",
            "       mundo       1.00      0.00      0.00      2051\n",
            "\n",
            "    accuracy                           0.30     20513\n",
            "   macro avg       0.88      0.17      0.08     20513\n",
            "weighted avg       0.79      0.30      0.14     20513\n",
            "\n"
          ]
        }
      ]
    },
    {
      "cell_type": "markdown",
      "source": [
        "# skip gram"
      ],
      "metadata": {
        "id": "OlQSMdp7O0d5"
      }
    },
    {
      "cell_type": "code",
      "source": [
        "# skip gram\n",
        "from gensim.models import KeyedVectors\n",
        "\n",
        "modelo_skipgram = KeyedVectors.load_word2vec_format(\"/content/drive/MyDrive/codealura/4-Word2Vec parte 1 and 2: interpretação da linguagem humana com Word embedding e treinamento de Word2Vec/skip_s300.txt\")"
      ],
      "metadata": {
        "id": "glXklktRMPiL"
      },
      "execution_count": null,
      "outputs": []
    },
    {
      "cell_type": "code",
      "source": [
        "import numpy as np\n",
        "\n",
        "def combinacao_de_vetores_por_soma_skipgram(palavras_numeros):\n",
        "  vetor_resultante = np.zeros(300)\n",
        "  for pn in palavras_numeros:\n",
        "    try:\n",
        "      vetor_resultante += modelo_skipgram.get_vector(pn)\n",
        "    except KeyError:\n",
        "      if pn.isnumeric():\n",
        "        pn = \"0\"*len(pn)\n",
        "        vetor_resultante += modelo_skipgram.get_vector(pn)\n",
        "      else:\n",
        "        vetor_resultante += modelo_skipgram.get_vector(\"unknown\")\n",
        "  return vetor_resultante"
      ],
      "metadata": {
        "id": "PEmAgfaSPFGS"
      },
      "execution_count": 92,
      "outputs": []
    },
    {
      "cell_type": "code",
      "source": [
        "# vetorizando treino e texto\n",
        "import numpy as np\n",
        "\n",
        "def matriz_vetores_skipgram(textos):\n",
        "  x = len(textos)\n",
        "  y = 300\n",
        "  matriz = np.zeros((x,y))\n",
        "\n",
        "  for i in range(x):\n",
        "    palavras_numeros = tokenizador(textos.iloc[i])\n",
        "    matriz[i] = combinacao_de_vetores_por_soma_skipgram(palavras_numeros)\n",
        "\n",
        "  return matriz\n",
        "\n",
        "\n",
        "matriz_vetores_treino_skipgram = matriz_vetores_skipgram(artigo_treino.title)\n",
        "matriz_vetores_teste_skipgram = matriz_vetores_skipgram(artigo_teste.title)"
      ],
      "metadata": {
        "id": "uuLhfnNzPfCC"
      },
      "execution_count": null,
      "outputs": []
    },
    {
      "cell_type": "code",
      "source": [
        "# treino LogisticRegression\n",
        "from sklearn.linear_model import LogisticRegression\n",
        "\n",
        "LR_skipgram = LogisticRegression(max_iter=1000)\n",
        "LR_skipgram.fit(matriz_vetores_treino_skipgram, artigo_treino.category)"
      ],
      "metadata": {
        "id": "x5DQzhwQPpmM"
      },
      "execution_count": null,
      "outputs": []
    },
    {
      "cell_type": "code",
      "source": [
        "# previsao\n",
        "from sklearn.metrics import classification_report\n",
        "\n",
        "label_prevista_skipgram = LR_skipgram.predict(matriz_vetores_teste_skipgram)\n",
        "CR_skipgram = classification_report(artigo_teste.category, label_prevista_skipgram)\n",
        "print(CR_skipgram)"
      ],
      "metadata": {
        "id": "BnrrvAC9R7mO"
      },
      "execution_count": null,
      "outputs": []
    },
    {
      "cell_type": "code",
      "source": [
        "# treino DummyClassifier\n",
        "\n",
        "from sklearn.dummy import DummyClassifier\n",
        "\n",
        "DC_skipgram = DummyClassifier()\n",
        "DC_skipgram.fit(matriz_vetores_treino_skipgram, artigo_treino.category)"
      ],
      "metadata": {
        "id": "VACIsbhgSonH"
      },
      "execution_count": null,
      "outputs": []
    },
    {
      "cell_type": "code",
      "source": [
        "# previsao\n",
        "from sklearn.metrics import classification_report\n",
        "\n",
        "label_prevista_skipgram_dummy = DC_skipgram.predict(matriz_vetores_teste_skipgram)\n",
        "CR_skipgram_dummy = classification_report(artigo_teste.category, label_prevista_skipgram_dummy)\n",
        "print(CR_skipgram_dummy)"
      ],
      "metadata": {
        "id": "-_B87svlSqlH"
      },
      "execution_count": null,
      "outputs": []
    },
    {
      "cell_type": "code",
      "source": [
        "print('ok')"
      ],
      "metadata": {
        "colab": {
          "base_uri": "https://localhost:8080/"
        },
        "id": "W08YpiuLWD7T",
        "outputId": "17b43a46-cde9-4fed-f047-121a5bcdd366"
      },
      "execution_count": 100,
      "outputs": [
        {
          "output_type": "stream",
          "name": "stdout",
          "text": [
            "ok\n"
          ]
        }
      ]
    }
  ]
}